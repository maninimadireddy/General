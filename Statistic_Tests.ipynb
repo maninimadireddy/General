{
 "cells": [
  {
   "cell_type": "markdown",
   "metadata": {},
   "source": [
    "## Shapiro-Wilk Test"
   ]
  },
  {
   "cell_type": "markdown",
   "metadata": {},
   "source": [
    "### Tests whether a data sample has a Gaussian distribution.\n",
    "#### H0: the sample has a Gaussian distribution.\n",
    "#### H1: the sample does not have a Gaussian distribution."
   ]
  },
  {
   "cell_type": "code",
   "execution_count": 4,
   "metadata": {},
   "outputs": [],
   "source": [
    "from scipy.stats import shapiro"
   ]
  },
  {
   "cell_type": "code",
   "execution_count": 5,
   "metadata": {},
   "outputs": [],
   "source": [
    "from sklearn import datasets\n",
    "import pandas as pd"
   ]
  },
  {
   "cell_type": "code",
   "execution_count": 6,
   "metadata": {},
   "outputs": [],
   "source": [
    "# load iris dataset\n",
    "iris = datasets.load_iris()\n",
    "# Since this is a bunch, create a dataframe\n",
    "iris_df=pd.DataFrame(iris.data)\n",
    "iris_df['class']=iris.target\n",
    "\n",
    "iris_df.columns=['sepal_len', 'sepal_wid', 'petal_len', 'petal_wid', 'class']\n",
    "iris_df.dropna(how=\"all\", inplace=True) # remove any empty lines\n"
   ]
  },
  {
   "cell_type": "code",
   "execution_count": 7,
   "metadata": {},
   "outputs": [
    {
     "data": {
      "text/html": [
       "<div>\n",
       "<style scoped>\n",
       "    .dataframe tbody tr th:only-of-type {\n",
       "        vertical-align: middle;\n",
       "    }\n",
       "\n",
       "    .dataframe tbody tr th {\n",
       "        vertical-align: top;\n",
       "    }\n",
       "\n",
       "    .dataframe thead th {\n",
       "        text-align: right;\n",
       "    }\n",
       "</style>\n",
       "<table border=\"1\" class=\"dataframe\">\n",
       "  <thead>\n",
       "    <tr style=\"text-align: right;\">\n",
       "      <th></th>\n",
       "      <th>sepal_len</th>\n",
       "      <th>sepal_wid</th>\n",
       "      <th>petal_len</th>\n",
       "      <th>petal_wid</th>\n",
       "      <th>class</th>\n",
       "    </tr>\n",
       "  </thead>\n",
       "  <tbody>\n",
       "    <tr>\n",
       "      <th>count</th>\n",
       "      <td>150.000000</td>\n",
       "      <td>150.000000</td>\n",
       "      <td>150.000000</td>\n",
       "      <td>150.000000</td>\n",
       "      <td>150.000000</td>\n",
       "    </tr>\n",
       "    <tr>\n",
       "      <th>mean</th>\n",
       "      <td>5.843333</td>\n",
       "      <td>3.057333</td>\n",
       "      <td>3.758000</td>\n",
       "      <td>1.199333</td>\n",
       "      <td>1.000000</td>\n",
       "    </tr>\n",
       "    <tr>\n",
       "      <th>std</th>\n",
       "      <td>0.828066</td>\n",
       "      <td>0.435866</td>\n",
       "      <td>1.765298</td>\n",
       "      <td>0.762238</td>\n",
       "      <td>0.819232</td>\n",
       "    </tr>\n",
       "    <tr>\n",
       "      <th>min</th>\n",
       "      <td>4.300000</td>\n",
       "      <td>2.000000</td>\n",
       "      <td>1.000000</td>\n",
       "      <td>0.100000</td>\n",
       "      <td>0.000000</td>\n",
       "    </tr>\n",
       "    <tr>\n",
       "      <th>25%</th>\n",
       "      <td>5.100000</td>\n",
       "      <td>2.800000</td>\n",
       "      <td>1.600000</td>\n",
       "      <td>0.300000</td>\n",
       "      <td>0.000000</td>\n",
       "    </tr>\n",
       "    <tr>\n",
       "      <th>50%</th>\n",
       "      <td>5.800000</td>\n",
       "      <td>3.000000</td>\n",
       "      <td>4.350000</td>\n",
       "      <td>1.300000</td>\n",
       "      <td>1.000000</td>\n",
       "    </tr>\n",
       "    <tr>\n",
       "      <th>75%</th>\n",
       "      <td>6.400000</td>\n",
       "      <td>3.300000</td>\n",
       "      <td>5.100000</td>\n",
       "      <td>1.800000</td>\n",
       "      <td>2.000000</td>\n",
       "    </tr>\n",
       "    <tr>\n",
       "      <th>max</th>\n",
       "      <td>7.900000</td>\n",
       "      <td>4.400000</td>\n",
       "      <td>6.900000</td>\n",
       "      <td>2.500000</td>\n",
       "      <td>2.000000</td>\n",
       "    </tr>\n",
       "  </tbody>\n",
       "</table>\n",
       "</div>"
      ],
      "text/plain": [
       "        sepal_len   sepal_wid   petal_len   petal_wid       class\n",
       "count  150.000000  150.000000  150.000000  150.000000  150.000000\n",
       "mean     5.843333    3.057333    3.758000    1.199333    1.000000\n",
       "std      0.828066    0.435866    1.765298    0.762238    0.819232\n",
       "min      4.300000    2.000000    1.000000    0.100000    0.000000\n",
       "25%      5.100000    2.800000    1.600000    0.300000    0.000000\n",
       "50%      5.800000    3.000000    4.350000    1.300000    1.000000\n",
       "75%      6.400000    3.300000    5.100000    1.800000    2.000000\n",
       "max      7.900000    4.400000    6.900000    2.500000    2.000000"
      ]
     },
     "execution_count": 7,
     "metadata": {},
     "output_type": "execute_result"
    }
   ],
   "source": [
    "iris_df.describe(include='all')"
   ]
  },
  {
   "cell_type": "code",
   "execution_count": 91,
   "metadata": {},
   "outputs": [
    {
     "data": {
      "text/html": [
       "<div>\n",
       "<style scoped>\n",
       "    .dataframe tbody tr th:only-of-type {\n",
       "        vertical-align: middle;\n",
       "    }\n",
       "\n",
       "    .dataframe tbody tr th {\n",
       "        vertical-align: top;\n",
       "    }\n",
       "\n",
       "    .dataframe thead th {\n",
       "        text-align: right;\n",
       "    }\n",
       "</style>\n",
       "<table border=\"1\" class=\"dataframe\">\n",
       "  <thead>\n",
       "    <tr style=\"text-align: right;\">\n",
       "      <th></th>\n",
       "      <th>p_val</th>\n",
       "      <th>sig</th>\n",
       "    </tr>\n",
       "  </thead>\n",
       "  <tbody>\n",
       "    <tr>\n",
       "      <th>sepal_len</th>\n",
       "      <td>0.010</td>\n",
       "      <td>Probably not Gaussian</td>\n",
       "    </tr>\n",
       "    <tr>\n",
       "      <th>sepal_wid</th>\n",
       "      <td>0.101</td>\n",
       "      <td>Probably Gaussian</td>\n",
       "    </tr>\n",
       "    <tr>\n",
       "      <th>petal_len</th>\n",
       "      <td>0.000</td>\n",
       "      <td>Probably not Gaussian</td>\n",
       "    </tr>\n",
       "    <tr>\n",
       "      <th>petal_wid</th>\n",
       "      <td>0.000</td>\n",
       "      <td>Probably not Gaussian</td>\n",
       "    </tr>\n",
       "    <tr>\n",
       "      <th>class</th>\n",
       "      <td>0.000</td>\n",
       "      <td>Probably not Gaussian</td>\n",
       "    </tr>\n",
       "  </tbody>\n",
       "</table>\n",
       "</div>"
      ],
      "text/plain": [
       "           p_val                    sig\n",
       "sepal_len  0.010  Probably not Gaussian\n",
       "sepal_wid  0.101      Probably Gaussian\n",
       "petal_len  0.000  Probably not Gaussian\n",
       "petal_wid  0.000  Probably not Gaussian\n",
       "class      0.000  Probably not Gaussian"
      ]
     },
     "execution_count": 91,
     "metadata": {},
     "output_type": "execute_result"
    }
   ],
   "source": [
    "def shapiro_test_sig(pval):\n",
    "    if pval > 0.05:\n",
    "         return 'Probably Gaussian'\n",
    "    else:\n",
    "         return 'Probably not Gaussian'\n",
    "        \n",
    "df=pd.DataFrame()        \n",
    "df['p_val']=iris_df.apply(lambda x:round(shapiro(x)[1],3), axis=0)\n",
    "df['sig']=df['p_val'].apply(lambda x:shapiro_test_sig(x))\n",
    "\n",
    "df"
   ]
  },
  {
   "cell_type": "markdown",
   "metadata": {},
   "source": [
    "### 2. Pearson’s Correlation Coefficient"
   ]
  },
  {
   "cell_type": "markdown",
   "metadata": {},
   "source": [
    "### Tests whether two samples have a linear relationship.\n",
    "#### H0: the two samples are independent.\n",
    "#### H1: there is a dependency between the samples."
   ]
  },
  {
   "cell_type": "code",
   "execution_count": 35,
   "metadata": {},
   "outputs": [],
   "source": [
    "from scipy.stats import pearsonr"
   ]
  },
  {
   "cell_type": "code",
   "execution_count": 72,
   "metadata": {},
   "outputs": [
    {
     "data": {
      "text/html": [
       "<div>\n",
       "<style scoped>\n",
       "    .dataframe tbody tr th:only-of-type {\n",
       "        vertical-align: middle;\n",
       "    }\n",
       "\n",
       "    .dataframe tbody tr th {\n",
       "        vertical-align: top;\n",
       "    }\n",
       "\n",
       "    .dataframe thead th {\n",
       "        text-align: right;\n",
       "    }\n",
       "</style>\n",
       "<table border=\"1\" class=\"dataframe\">\n",
       "  <thead>\n",
       "    <tr style=\"text-align: right;\">\n",
       "      <th></th>\n",
       "      <th>col1</th>\n",
       "      <th>col2</th>\n",
       "      <th>p_val</th>\n",
       "      <th>sig</th>\n",
       "    </tr>\n",
       "  </thead>\n",
       "  <tbody>\n",
       "    <tr>\n",
       "      <th>0</th>\n",
       "      <td>petal_len</td>\n",
       "      <td>petal_wid</td>\n",
       "      <td>0.0</td>\n",
       "      <td>Probably dependent</td>\n",
       "    </tr>\n",
       "  </tbody>\n",
       "</table>\n",
       "</div>"
      ],
      "text/plain": [
       "        col1       col2  p_val                 sig\n",
       "0  petal_len  petal_wid    0.0  Probably dependent"
      ]
     },
     "execution_count": 72,
     "metadata": {},
     "output_type": "execute_result"
    }
   ],
   "source": [
    "#temp=[col1,col2,p_val,sig]\n",
    "df=pd.DataFrame([temp],columns=['col1','col2','p_val','sig'])\n",
    "df"
   ]
  },
  {
   "cell_type": "code",
   "execution_count": 98,
   "metadata": {},
   "outputs": [
    {
     "data": {
      "text/html": [
       "<div>\n",
       "<style scoped>\n",
       "    .dataframe tbody tr th:only-of-type {\n",
       "        vertical-align: middle;\n",
       "    }\n",
       "\n",
       "    .dataframe tbody tr th {\n",
       "        vertical-align: top;\n",
       "    }\n",
       "\n",
       "    .dataframe thead th {\n",
       "        text-align: right;\n",
       "    }\n",
       "</style>\n",
       "<table border=\"1\" class=\"dataframe\">\n",
       "  <thead>\n",
       "    <tr style=\"text-align: right;\">\n",
       "      <th></th>\n",
       "      <th>col1</th>\n",
       "      <th>col2</th>\n",
       "      <th>p_val</th>\n",
       "      <th>sig</th>\n",
       "    </tr>\n",
       "  </thead>\n",
       "  <tbody>\n",
       "    <tr>\n",
       "      <th>0</th>\n",
       "      <td>petal_wid</td>\n",
       "      <td>class</td>\n",
       "      <td>0.000</td>\n",
       "      <td>Probably dependent</td>\n",
       "    </tr>\n",
       "    <tr>\n",
       "      <th>0</th>\n",
       "      <td>petal_len</td>\n",
       "      <td>class</td>\n",
       "      <td>0.000</td>\n",
       "      <td>Probably dependent</td>\n",
       "    </tr>\n",
       "    <tr>\n",
       "      <th>0</th>\n",
       "      <td>petal_len</td>\n",
       "      <td>petal_wid</td>\n",
       "      <td>0.000</td>\n",
       "      <td>Probably dependent</td>\n",
       "    </tr>\n",
       "    <tr>\n",
       "      <th>0</th>\n",
       "      <td>sepal_wid</td>\n",
       "      <td>class</td>\n",
       "      <td>0.000</td>\n",
       "      <td>Probably dependent</td>\n",
       "    </tr>\n",
       "    <tr>\n",
       "      <th>0</th>\n",
       "      <td>sepal_wid</td>\n",
       "      <td>petal_wid</td>\n",
       "      <td>0.000</td>\n",
       "      <td>Probably dependent</td>\n",
       "    </tr>\n",
       "    <tr>\n",
       "      <th>0</th>\n",
       "      <td>sepal_wid</td>\n",
       "      <td>petal_len</td>\n",
       "      <td>0.000</td>\n",
       "      <td>Probably dependent</td>\n",
       "    </tr>\n",
       "    <tr>\n",
       "      <th>0</th>\n",
       "      <td>sepal_len</td>\n",
       "      <td>class</td>\n",
       "      <td>0.000</td>\n",
       "      <td>Probably dependent</td>\n",
       "    </tr>\n",
       "    <tr>\n",
       "      <th>0</th>\n",
       "      <td>sepal_len</td>\n",
       "      <td>petal_wid</td>\n",
       "      <td>0.000</td>\n",
       "      <td>Probably dependent</td>\n",
       "    </tr>\n",
       "    <tr>\n",
       "      <th>0</th>\n",
       "      <td>sepal_len</td>\n",
       "      <td>petal_len</td>\n",
       "      <td>0.000</td>\n",
       "      <td>Probably dependent</td>\n",
       "    </tr>\n",
       "    <tr>\n",
       "      <th>0</th>\n",
       "      <td>sepal_len</td>\n",
       "      <td>sepal_wid</td>\n",
       "      <td>0.152</td>\n",
       "      <td>Probably independent</td>\n",
       "    </tr>\n",
       "  </tbody>\n",
       "</table>\n",
       "</div>"
      ],
      "text/plain": [
       "        col1       col2  p_val                   sig\n",
       "0  petal_wid      class  0.000    Probably dependent\n",
       "0  petal_len      class  0.000    Probably dependent\n",
       "0  petal_len  petal_wid  0.000    Probably dependent\n",
       "0  sepal_wid      class  0.000    Probably dependent\n",
       "0  sepal_wid  petal_wid  0.000    Probably dependent\n",
       "0  sepal_wid  petal_len  0.000    Probably dependent\n",
       "0  sepal_len      class  0.000    Probably dependent\n",
       "0  sepal_len  petal_wid  0.000    Probably dependent\n",
       "0  sepal_len  petal_len  0.000    Probably dependent\n",
       "0  sepal_len  sepal_wid  0.152  Probably independent"
      ]
     },
     "execution_count": 98,
     "metadata": {},
     "output_type": "execute_result"
    }
   ],
   "source": [
    "line=\"_\".join([\"_\" for i in range(30)])\n",
    "num_cols=len(iris_df.columns)\n",
    "\n",
    "def pearson_test_sig(pval):\n",
    "    if pval > 0.05:\n",
    "         return 'Probably independent'\n",
    "    else:\n",
    "         return 'Probably dependent'\n",
    "\n",
    "df=pd.DataFrame()\n",
    "for ind,col1 in enumerate(iris_df.columns):\n",
    "    #print(line)\n",
    "    for col2 in iris_df.columns[ind+1:num_cols]:\n",
    "        p_val=round(pearsonr(iris_df[col1], iris_df[col2])[1],3)\n",
    "        sig=pearson_test_sig(p_val)\n",
    "        #print(f\"{col1},{col2}, p_val={p_val}, sig= {sig}\")\n",
    "        temp=pd.DataFrame([[col1,col2,p_val,sig]],columns=['col1','col2','p_val','sig'])\n",
    "        df=pd.concat([temp,df],axis=0)\n",
    "df"
   ]
  },
  {
   "cell_type": "markdown",
   "metadata": {},
   "source": [
    "### Other Correlation tests"
   ]
  },
  {
   "cell_type": "markdown",
   "metadata": {},
   "source": [
    "#### Spearman’s Rank Correlation\n",
    "\n",
    "### Tests whether two samples have a monotonic relationship.\n",
    "\n",
    "#### H0: the two samples are independent.\n",
    "#### H1: there is a dependency between the samples"
   ]
  },
  {
   "cell_type": "markdown",
   "metadata": {},
   "source": [
    "#### Chi-Squared Test\n",
    "\n",
    "### Tests whether two categorical variables are related or independent.\n",
    "\n",
    "#### H0: the two samples are independent.\n",
    "#### H1: there is a dependency between the samples."
   ]
  },
  {
   "cell_type": "code",
   "execution_count": 99,
   "metadata": {},
   "outputs": [
    {
     "data": {
      "text/html": [
       "<div>\n",
       "<style scoped>\n",
       "    .dataframe tbody tr th:only-of-type {\n",
       "        vertical-align: middle;\n",
       "    }\n",
       "\n",
       "    .dataframe tbody tr th {\n",
       "        vertical-align: top;\n",
       "    }\n",
       "\n",
       "    .dataframe thead th {\n",
       "        text-align: right;\n",
       "    }\n",
       "</style>\n",
       "<table border=\"1\" class=\"dataframe\">\n",
       "  <thead>\n",
       "    <tr style=\"text-align: right;\">\n",
       "      <th></th>\n",
       "      <th>col1</th>\n",
       "      <th>col2</th>\n",
       "      <th>p_val</th>\n",
       "      <th>sig</th>\n",
       "    </tr>\n",
       "  </thead>\n",
       "  <tbody>\n",
       "    <tr>\n",
       "      <th>0</th>\n",
       "      <td>petal_wid</td>\n",
       "      <td>class</td>\n",
       "      <td>1.0</td>\n",
       "      <td>Probably independent</td>\n",
       "    </tr>\n",
       "    <tr>\n",
       "      <th>0</th>\n",
       "      <td>petal_len</td>\n",
       "      <td>class</td>\n",
       "      <td>1.0</td>\n",
       "      <td>Probably independent</td>\n",
       "    </tr>\n",
       "    <tr>\n",
       "      <th>0</th>\n",
       "      <td>petal_len</td>\n",
       "      <td>petal_wid</td>\n",
       "      <td>1.0</td>\n",
       "      <td>Probably independent</td>\n",
       "    </tr>\n",
       "    <tr>\n",
       "      <th>0</th>\n",
       "      <td>sepal_wid</td>\n",
       "      <td>class</td>\n",
       "      <td>1.0</td>\n",
       "      <td>Probably independent</td>\n",
       "    </tr>\n",
       "    <tr>\n",
       "      <th>0</th>\n",
       "      <td>sepal_wid</td>\n",
       "      <td>petal_wid</td>\n",
       "      <td>1.0</td>\n",
       "      <td>Probably independent</td>\n",
       "    </tr>\n",
       "    <tr>\n",
       "      <th>0</th>\n",
       "      <td>sepal_wid</td>\n",
       "      <td>petal_len</td>\n",
       "      <td>1.0</td>\n",
       "      <td>Probably independent</td>\n",
       "    </tr>\n",
       "    <tr>\n",
       "      <th>0</th>\n",
       "      <td>sepal_len</td>\n",
       "      <td>class</td>\n",
       "      <td>1.0</td>\n",
       "      <td>Probably independent</td>\n",
       "    </tr>\n",
       "    <tr>\n",
       "      <th>0</th>\n",
       "      <td>sepal_len</td>\n",
       "      <td>petal_wid</td>\n",
       "      <td>1.0</td>\n",
       "      <td>Probably independent</td>\n",
       "    </tr>\n",
       "    <tr>\n",
       "      <th>0</th>\n",
       "      <td>sepal_len</td>\n",
       "      <td>petal_len</td>\n",
       "      <td>1.0</td>\n",
       "      <td>Probably independent</td>\n",
       "    </tr>\n",
       "    <tr>\n",
       "      <th>0</th>\n",
       "      <td>sepal_len</td>\n",
       "      <td>sepal_wid</td>\n",
       "      <td>1.0</td>\n",
       "      <td>Probably independent</td>\n",
       "    </tr>\n",
       "  </tbody>\n",
       "</table>\n",
       "</div>"
      ],
      "text/plain": [
       "        col1       col2  p_val                   sig\n",
       "0  petal_wid      class    1.0  Probably independent\n",
       "0  petal_len      class    1.0  Probably independent\n",
       "0  petal_len  petal_wid    1.0  Probably independent\n",
       "0  sepal_wid      class    1.0  Probably independent\n",
       "0  sepal_wid  petal_wid    1.0  Probably independent\n",
       "0  sepal_wid  petal_len    1.0  Probably independent\n",
       "0  sepal_len      class    1.0  Probably independent\n",
       "0  sepal_len  petal_wid    1.0  Probably independent\n",
       "0  sepal_len  petal_len    1.0  Probably independent\n",
       "0  sepal_len  sepal_wid    1.0  Probably independent"
      ]
     },
     "execution_count": 99,
     "metadata": {},
     "output_type": "execute_result"
    }
   ],
   "source": [
    "from scipy.stats import chi2_contingency\n",
    "\n",
    "\n",
    "line=\"_\".join([\"_\" for i in range(30)])\n",
    "num_cols=len(iris_df.columns)\n",
    "\n",
    "def pearson_test_sig(pval):\n",
    "    if pval > 0.05:\n",
    "         return 'Probably independent'\n",
    "    else:\n",
    "         return 'Probably dependent'\n",
    "\n",
    "df=pd.DataFrame()\n",
    "for ind,col1 in enumerate(iris_df.columns):\n",
    "    #print(line)\n",
    "    for col2 in iris_df.columns[ind+1:num_cols]:\n",
    "        p_val=round(chi2_contingency(iris_df[col1], iris_df[col2])[1],3)\n",
    "        sig=pearson_test_sig(p_val)\n",
    "        #print(f\"{col1},{col2}, p_val={p_val}, sig= {sig}\")\n",
    "        temp=pd.DataFrame([[col1,col2,p_val,sig]],columns=['col1','col2','p_val','sig'])\n",
    "        df=pd.concat([temp,df],axis=0)\n",
    "df"
   ]
  },
  {
   "cell_type": "markdown",
   "metadata": {},
   "source": [
    "### Stationarity \n",
    "\n",
    "### Augmented Dickey-Fuller Unit Root Test, Tests whether a time series has a unit root, e.g. has a trend or more generally is autoregressive.\n",
    "\n",
    "#### H0: a unit root is present (series is non-stationary).\n",
    "#### H1: a unit root is not present (series is stationary)."
   ]
  },
  {
   "cell_type": "code",
   "execution_count": 100,
   "metadata": {},
   "outputs": [
    {
     "name": "stdout",
     "output_type": "stream",
     "text": [
      "stat=0.992, p=0.994\n",
      "Probably not Stationary\n"
     ]
    },
    {
     "data": {
      "text/plain": [
       "0.9941824998493046"
      ]
     },
     "execution_count": 100,
     "metadata": {},
     "output_type": "execute_result"
    }
   ],
   "source": [
    "# Example of the Augmented Dickey-Fuller unit root test\n",
    "from statsmodels.tsa.stattools import adfuller\n",
    "data = [0, 1, 2, 3, 4, 5, 6, 7, 8, 9]\n",
    "stat, p, lags, obs, crit, t = adfuller(data)\n",
    "print('stat=%.3f, p=%.3f' % (stat, p))\n",
    "if p > 0.05:\n",
    "\tprint('Probably not Stationary')\n",
    "else:\n",
    "\tprint('Probably Stationary')\n",
    "    \n",
    "adfuller(data)[1]"
   ]
  },
  {
   "cell_type": "code",
   "execution_count": 101,
   "metadata": {},
   "outputs": [
    {
     "data": {
      "text/html": [
       "<div>\n",
       "<style scoped>\n",
       "    .dataframe tbody tr th:only-of-type {\n",
       "        vertical-align: middle;\n",
       "    }\n",
       "\n",
       "    .dataframe tbody tr th {\n",
       "        vertical-align: top;\n",
       "    }\n",
       "\n",
       "    .dataframe thead th {\n",
       "        text-align: right;\n",
       "    }\n",
       "</style>\n",
       "<table border=\"1\" class=\"dataframe\">\n",
       "  <thead>\n",
       "    <tr style=\"text-align: right;\">\n",
       "      <th></th>\n",
       "      <th>p_val</th>\n",
       "      <th>sig</th>\n",
       "    </tr>\n",
       "  </thead>\n",
       "  <tbody>\n",
       "    <tr>\n",
       "      <th>sepal_len</th>\n",
       "      <td>0.565</td>\n",
       "      <td>Probably not Stationary</td>\n",
       "    </tr>\n",
       "    <tr>\n",
       "      <th>sepal_wid</th>\n",
       "      <td>0.112</td>\n",
       "      <td>Probably not Stationary</td>\n",
       "    </tr>\n",
       "    <tr>\n",
       "      <th>petal_len</th>\n",
       "      <td>0.583</td>\n",
       "      <td>Probably not Stationary</td>\n",
       "    </tr>\n",
       "    <tr>\n",
       "      <th>petal_wid</th>\n",
       "      <td>0.659</td>\n",
       "      <td>Probably not Stationary</td>\n",
       "    </tr>\n",
       "    <tr>\n",
       "      <th>class</th>\n",
       "      <td>0.801</td>\n",
       "      <td>Probably not Stationary</td>\n",
       "    </tr>\n",
       "  </tbody>\n",
       "</table>\n",
       "</div>"
      ],
      "text/plain": [
       "           p_val                      sig\n",
       "sepal_len  0.565  Probably not Stationary\n",
       "sepal_wid  0.112  Probably not Stationary\n",
       "petal_len  0.583  Probably not Stationary\n",
       "petal_wid  0.659  Probably not Stationary\n",
       "class      0.801  Probably not Stationary"
      ]
     },
     "execution_count": 101,
     "metadata": {},
     "output_type": "execute_result"
    }
   ],
   "source": [
    "from statsmodels.tsa.stattools import adfuller\n",
    "\n",
    "\n",
    "line=\"_\".join([\"_\" for i in range(30)])\n",
    "num_cols=len(iris_df.columns)\n",
    "\n",
    "def adfuller_test_sig(pval):\n",
    "    if pval > 0.05:\n",
    "         return 'Probably not Stationary'\n",
    "    else:\n",
    "         return 'Probably Stationary'\n",
    "\n",
    "df=pd.DataFrame()        \n",
    "df['p_val']=iris_df.apply(lambda x:round(adfuller(x)[1],3), axis=0)\n",
    "df['sig']=df['p_val'].apply(lambda x:adfuller_test_sig(x))\n",
    "\n",
    "df\n"
   ]
  },
  {
   "cell_type": "markdown",
   "metadata": {},
   "source": [
    "### Student’s t-test\n",
    "\n",
    "### Tests whether the means of two independent samples are significantly different."
   ]
  },
  {
   "cell_type": "markdown",
   "metadata": {},
   "source": [
    "#### H0: the means of the samples are equal.\n",
    "#### H1: the means of the samples are unequal."
   ]
  },
  {
   "cell_type": "code",
   "execution_count": 102,
   "metadata": {},
   "outputs": [
    {
     "name": "stdout",
     "output_type": "stream",
     "text": [
      "stat=-0.326, p=0.748\n",
      "Probably the same distribution\n"
     ]
    }
   ],
   "source": [
    "# Example of the Student's t-test\n",
    "from scipy.stats import ttest_ind\n",
    "data1 = [0.873, 2.817, 0.121, -0.945, -0.055, -1.436, 0.360, -1.478, -1.637, -1.869]\n",
    "data2 = [1.142, -0.432, -0.938, -0.729, -0.846, -0.157, 0.500, 1.183, -1.075, -0.169]\n",
    "stat, p = ttest_ind(data1, data2)\n",
    "print('stat=%.3f, p=%.3f' % (stat, p))\n",
    "if p > 0.05:\n",
    " print('Probably the same distribution')\n",
    "else:\n",
    " print('Probably different distributions')"
   ]
  },
  {
   "cell_type": "markdown",
   "metadata": {},
   "source": [
    "### Paired T-test\n",
    "#### H0: the means of the samples are equal.\n",
    "#### H1: the means of the samples are unequal."
   ]
  },
  {
   "cell_type": "code",
   "execution_count": 103,
   "metadata": {},
   "outputs": [
    {
     "name": "stdout",
     "output_type": "stream",
     "text": [
      "stat=-0.334, p=0.746\n",
      "Probably the same distribution\n"
     ]
    }
   ],
   "source": [
    "# Example of the Paired Student's t-test\n",
    "from scipy.stats import ttest_rel\n",
    "data1 = [0.873, 2.817, 0.121, -0.945, -0.055, -1.436, 0.360, -1.478, -1.637, -1.869]\n",
    "data2 = [1.142, -0.432, -0.938, -0.729, -0.846, -0.157, 0.500, 1.183, -1.075, -0.169]\n",
    "stat, p = ttest_rel(data1, data2)\n",
    "print('stat=%.3f, p=%.3f' % (stat, p))\n",
    "if p > 0.05:\n",
    " print('Probably the same distribution')\n",
    "else:\n",
    " print('Probably different distributions')"
   ]
  },
  {
   "cell_type": "markdown",
   "metadata": {},
   "source": [
    "### Analysis of Variance Test (ANOVA)\n",
    "\n",
    "### Tests whether the means of two or more independent samples are significantly different.\n",
    "\n",
    "#### H0: the means of the samples are equal.\n",
    "#### H1: one or more of the means of the samples are unequal."
   ]
  },
  {
   "cell_type": "code",
   "execution_count": 104,
   "metadata": {},
   "outputs": [
    {
     "name": "stdout",
     "output_type": "stream",
     "text": [
      "stat=0.096, p=0.908\n",
      "Probably the same distribution\n"
     ]
    }
   ],
   "source": [
    "# Example of the Analysis of Variance Test\n",
    "from scipy.stats import f_oneway\n",
    "data1 = [0.873, 2.817, 0.121, -0.945, -0.055, -1.436, 0.360, -1.478, -1.637, -1.869]\n",
    "data2 = [1.142, -0.432, -0.938, -0.729, -0.846, -0.157, 0.500, 1.183, -1.075, -0.169]\n",
    "data3 = [-0.208, 0.696, 0.928, -1.148, -0.213, 0.229, 0.137, 0.269, -0.870, -1.204]\n",
    "stat, p = f_oneway(data1, data2, data3)\n",
    "print('stat=%.3f, p=%.3f' % (stat, p))\n",
    "if p > 0.05:\n",
    "\tprint('Probably the same distribution')\n",
    "else:\n",
    "\tprint('Probably different distributions')"
   ]
  },
  {
   "cell_type": "code",
   "execution_count": null,
   "metadata": {},
   "outputs": [],
   "source": []
  }
 ],
 "metadata": {
  "kernelspec": {
   "display_name": "Python 3",
   "language": "python",
   "name": "python3"
  },
  "language_info": {
   "codemirror_mode": {
    "name": "ipython",
    "version": 3
   },
   "file_extension": ".py",
   "mimetype": "text/x-python",
   "name": "python",
   "nbconvert_exporter": "python",
   "pygments_lexer": "ipython3",
   "version": "3.7.4"
  }
 },
 "nbformat": 4,
 "nbformat_minor": 2
}
